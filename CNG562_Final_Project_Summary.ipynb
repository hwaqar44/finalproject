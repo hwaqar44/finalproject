{
  "nbformat": 4,
  "nbformat_minor": 0,
  "metadata": {
    "colab": {
      "name": "Copy of CNG562_Final_Project_Summary.ipynb",
      "version": "0.3.2",
      "provenance": [],
      "collapsed_sections": []
    },
    "language_info": {
      "codemirror_mode": {
        "name": "ipython",
        "version": 3
      },
      "file_extension": ".py",
      "mimetype": "text/x-python",
      "name": "python",
      "nbconvert_exporter": "python",
      "pygments_lexer": "ipython3",
      "version": "3.6.8"
    },
    "kernelspec": {
      "display_name": "Python 3",
      "language": "python",
      "name": "python3"
    }
  },
  "cells": [
    {
      "cell_type": "markdown",
      "metadata": {
        "id": "1fuY9D4Durr8",
        "colab_type": "text"
      },
      "source": [
        "# CNG 562 Final Project Summary\n",
        "\n",
        "\n",
        "## Participants (Ordered by Surname)\n",
        "\n",
        "1. WAQAR HAIDER, 2409365"
      ]
    },
    {
      "cell_type": "markdown",
      "metadata": {
        "id": "itl93s_eursM",
        "colab_type": "text"
      },
      "source": [
        "## Problem Description\n",
        "\n",
        "Multiple questions with the same intent can cause seekers to spend more time finding the best answer to their question, and make writers feel they need to answer multiple versions of the same question. Quora values canonical questions because they provide a better experience to active seekers and writers, and offer more value to both of these groups in the long term.\n",
        "\n",
        "The challenged is to tackle this natural language processing problem by applying advanced techniques to classify whether question pairs are duplicates or not. Doing so will make it easier to find high quality answers to questions resulting in an improved experience for Quora writers, seekers, and readers."
      ]
    },
    {
      "cell_type": "markdown",
      "metadata": {
        "id": "QV5U6FqUursT",
        "colab_type": "text"
      },
      "source": [
        "## Data Description\n",
        "\n",
        "The goal of this competition is to predict which of the provided pairs of questions contain two questions with the same meaning. The ground truth is the set of labels that have been supplied by human experts. The ground truth labels are inherently subjective, as the true meaning of sentences can never be known with certainty. Human labeling is also a 'noisy' process, and reasonable people will disagree. As a result, the ground truth labels on this dataset should be taken to be 'informed' but not 100% accurate, and may include incorrect labeling. We believe the labels, on the whole, to represent a reasonable consensus, but this may often not be true on a case by case basis for individual items in the dataset.\n",
        "\n",
        "**Please note:** as an anti-cheating measure, Kaggle has supplemented the test set with computer-generated question pairs. Those rows do not come from Quora, and are not counted in the scoring. All of the questions in the training set are genuine examples from Quora.\n",
        "\n",
        "**Data fields**\n",
        "\n",
        "**id** - the id of a training set question pair\n",
        "\n",
        "**qid1, qid2** - unique ids of each question (only available in train.csv)\n",
        "\n",
        "**question1, question2**  - the full text of each question\n",
        "\n",
        "**is_duplicate** - the target variable, set to 1 if question1 and question2 have essentially the same meaning, and 0 otherwise."
      ]
    },
    {
      "cell_type": "markdown",
      "metadata": {
        "id": "zbhfT1UMursb",
        "colab_type": "text"
      },
      "source": [
        "## Solution Description\n",
        "\n",
        "Different appreaches have been used simultaneously to check the similarity or differences between the questions.\n",
        "First the Genism Word2Vec Medel is used to create new features. The model is first trained with Google news data , that about 700 mbs of Google data related to news, than we check the similarty between each question and the new feature named 'wmd' is saved all the WMD distances between questions. The questions themselves are first seperated in to 2. the one with the root words only, and others with no common words. \n",
        "Next we create feature using Spacy Model. Spacy check each word and check the similar words ratio and between each sentances. So we create new feature name 'spacy_similarity' and 'spacy_sameqs_similarity' for both types of quesitons. \n",
        "Fuzz ration is another library that check the sentance similarity, i have also used that. More than 30 new features have been created from the 2 questions, using different librareis and models.\n",
        "Than we check all the features by splitting the data in to training and test sets.\n",
        "the data is first train using different models and then tested. The best score was From XGBoost model so we tune the pramaters a little bit. We got 71% accuracy on test sets.\n"
      ]
    },
    {
      "cell_type": "markdown",
      "metadata": {
        "id": "dbQG3TL8ursj",
        "colab_type": "text"
      },
      "source": [
        "## Project Results\n",
        "\n",
        "Using XGBoost we got 71.25% accurcy, after tuning the parameters.\n",
        "\n",
        "I haven't submitted the results to kaggle, as the test set is more then 4 million of data and it is taking time to process. I will submit the results as soon as the run is complete. so far it is running for quite some time now. \n"
      ]
    },
    {
      "cell_type": "markdown",
      "metadata": {
        "id": "Bm26JE3wurss",
        "colab_type": "text"
      },
      "source": [
        "## Further Comments on your work\n",
        "\n",
        "If necessary, please add further information on your work on the final project."
      ]
    },
    {
      "cell_type": "code",
      "metadata": {
        "id": "ETD8Wj6Murs2",
        "colab_type": "code",
        "colab": {}
      },
      "source": [
        "#I am not submitting the test set because of the fact that it is too large to upload somewhere and running it took almost 3 days and it is still not yet processed."
      ],
      "execution_count": 0,
      "outputs": []
    },
    {
      "cell_type": "code",
      "metadata": {
        "id": "oV0rOTJgurtY",
        "colab_type": "code",
        "colab": {}
      },
      "source": [
        ""
      ],
      "execution_count": 0,
      "outputs": []
    }
  ]
}
