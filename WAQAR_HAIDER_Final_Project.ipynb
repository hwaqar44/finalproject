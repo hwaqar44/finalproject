{
  "nbformat": 4,
  "nbformat_minor": 0,
  "metadata": {
    "colab": {
      "name": "Copy of WAQAR_HAIDER_Final_Project.ipynb",
      "version": "0.3.2",
      "provenance": [],
      "collapsed_sections": [
        "wo-i5zPJ01cy"
      ],
      "toc_visible": true
    },
    "language_info": {
      "codemirror_mode": {
        "name": "ipython",
        "version": 3
      },
      "file_extension": ".py",
      "mimetype": "text/x-python",
      "name": "python",
      "nbconvert_exporter": "python",
      "pygments_lexer": "ipython3",
      "version": "3.7.3"
    },
    "kernelspec": {
      "display_name": "Python 3",
      "language": "python",
      "name": "python3"
    }
  },
  "cells": [
    {
      "cell_type": "code",
      "metadata": {
        "id": "HcV-RcwK01Pg",
        "colab_type": "code",
        "colab": {}
      },
      "source": [
        "#importing numpy  and pandas libs\n",
        "\n",
        "import numpy as np\n",
        "import pandas as pd\n",
        "\n",
        "# importing model_selection for spliting data and other purposes\n",
        "\n",
        "from sklearn import preprocessing, model_selection\n",
        "%matplotlib inline\n",
        "\n",
        "# we don't want warnings\n",
        "\n",
        "import warnings\n",
        "warnings.filterwarnings('ignore')"
      ],
      "execution_count": 0,
      "outputs": []
    },
    {
      "cell_type": "code",
      "metadata": {
        "id": "gtsOhMjk01QE",
        "colab_type": "code",
        "outputId": "f3bdc883-a356-41b5-dfdf-6c3b895393a4",
        "colab": {}
      },
      "source": [
        "# The training and testing is too large to add to github repository. The test file takes more than a day to run so thats why i have included the test data\n",
        "#loading training data from dir\n",
        "\n",
        "df2 = pd.read_csv(filepath_or_buffer='data/finalproject/train.csv')\n",
        "df = df2.copy()\n",
        "df.head()"
      ],
      "execution_count": 0,
      "outputs": [
        {
          "output_type": "execute_result",
          "data": {
            "text/html": [
              "<div>\n",
              "<style scoped>\n",
              "    .dataframe tbody tr th:only-of-type {\n",
              "        vertical-align: middle;\n",
              "    }\n",
              "\n",
              "    .dataframe tbody tr th {\n",
              "        vertical-align: top;\n",
              "    }\n",
              "\n",
              "    .dataframe thead th {\n",
              "        text-align: right;\n",
              "    }\n",
              "</style>\n",
              "<table border=\"1\" class=\"dataframe\">\n",
              "  <thead>\n",
              "    <tr style=\"text-align: right;\">\n",
              "      <th></th>\n",
              "      <th>is_duplicate</th>\n",
              "      <th>spacy_similarity</th>\n",
              "      <th>len_q1</th>\n",
              "      <th>len_q2</th>\n",
              "      <th>diff_len</th>\n",
              "      <th>len_char_q1</th>\n",
              "      <th>len_char_q2</th>\n",
              "      <th>len_word_q1</th>\n",
              "      <th>len_word_q2</th>\n",
              "      <th>common_words</th>\n",
              "      <th>...</th>\n",
              "      <th>cityblock_dis</th>\n",
              "      <th>jaccard_dis</th>\n",
              "      <th>canberra_dis</th>\n",
              "      <th>euclidean_dis</th>\n",
              "      <th>minkowski_dis</th>\n",
              "      <th>braycurtis_dis</th>\n",
              "      <th>skew_q1</th>\n",
              "      <th>skew_q2</th>\n",
              "      <th>kur_q1</th>\n",
              "      <th>kur_q2</th>\n",
              "    </tr>\n",
              "  </thead>\n",
              "  <tbody>\n",
              "    <tr>\n",
              "      <th>0</th>\n",
              "      <td>0</td>\n",
              "      <td>0.313089</td>\n",
              "      <td>5</td>\n",
              "      <td>36</td>\n",
              "      <td>-31</td>\n",
              "      <td>4</td>\n",
              "      <td>16</td>\n",
              "      <td>1</td>\n",
              "      <td>7</td>\n",
              "      <td>0</td>\n",
              "      <td>...</td>\n",
              "      <td>18.186985</td>\n",
              "      <td>1.0</td>\n",
              "      <td>206.461737</td>\n",
              "      <td>1.311902</td>\n",
              "      <td>1.311902</td>\n",
              "      <td>0.872352</td>\n",
              "      <td>-0.155758</td>\n",
              "      <td>-0.087513</td>\n",
              "      <td>0.188890</td>\n",
              "      <td>-0.115978</td>\n",
              "    </tr>\n",
              "    <tr>\n",
              "      <th>1</th>\n",
              "      <td>0</td>\n",
              "      <td>-0.067930</td>\n",
              "      <td>5</td>\n",
              "      <td>71</td>\n",
              "      <td>-66</td>\n",
              "      <td>5</td>\n",
              "      <td>24</td>\n",
              "      <td>1</td>\n",
              "      <td>12</td>\n",
              "      <td>0</td>\n",
              "      <td>...</td>\n",
              "      <td>13.787235</td>\n",
              "      <td>1.0</td>\n",
              "      <td>300.000000</td>\n",
              "      <td>1.000000</td>\n",
              "      <td>1.000000</td>\n",
              "      <td>1.000000</td>\n",
              "      <td>0.000000</td>\n",
              "      <td>0.085398</td>\n",
              "      <td>-3.000000</td>\n",
              "      <td>0.117636</td>\n",
              "    </tr>\n",
              "    <tr>\n",
              "      <th>2</th>\n",
              "      <td>0</td>\n",
              "      <td>0.664722</td>\n",
              "      <td>23</td>\n",
              "      <td>32</td>\n",
              "      <td>-9</td>\n",
              "      <td>12</td>\n",
              "      <td>13</td>\n",
              "      <td>4</td>\n",
              "      <td>6</td>\n",
              "      <td>1</td>\n",
              "      <td>...</td>\n",
              "      <td>11.457092</td>\n",
              "      <td>1.0</td>\n",
              "      <td>155.035952</td>\n",
              "      <td>0.849427</td>\n",
              "      <td>0.849427</td>\n",
              "      <td>0.452261</td>\n",
              "      <td>0.065101</td>\n",
              "      <td>0.079091</td>\n",
              "      <td>-0.007587</td>\n",
              "      <td>-0.470184</td>\n",
              "    </tr>\n",
              "    <tr>\n",
              "      <th>3</th>\n",
              "      <td>0</td>\n",
              "      <td>0.275611</td>\n",
              "      <td>19</td>\n",
              "      <td>56</td>\n",
              "      <td>-37</td>\n",
              "      <td>10</td>\n",
              "      <td>22</td>\n",
              "      <td>4</td>\n",
              "      <td>15</td>\n",
              "      <td>0</td>\n",
              "      <td>...</td>\n",
              "      <td>17.435374</td>\n",
              "      <td>1.0</td>\n",
              "      <td>203.955915</td>\n",
              "      <td>1.256324</td>\n",
              "      <td>1.256324</td>\n",
              "      <td>0.830043</td>\n",
              "      <td>-0.007600</td>\n",
              "      <td>0.018465</td>\n",
              "      <td>0.056253</td>\n",
              "      <td>0.015438</td>\n",
              "    </tr>\n",
              "    <tr>\n",
              "      <th>4</th>\n",
              "      <td>0</td>\n",
              "      <td>0.587580</td>\n",
              "      <td>50</td>\n",
              "      <td>30</td>\n",
              "      <td>20</td>\n",
              "      <td>21</td>\n",
              "      <td>15</td>\n",
              "      <td>10</td>\n",
              "      <td>6</td>\n",
              "      <td>0</td>\n",
              "      <td>...</td>\n",
              "      <td>14.968091</td>\n",
              "      <td>1.0</td>\n",
              "      <td>178.222529</td>\n",
              "      <td>1.086451</td>\n",
              "      <td>1.086451</td>\n",
              "      <td>0.631376</td>\n",
              "      <td>0.027209</td>\n",
              "      <td>0.037700</td>\n",
              "      <td>0.021048</td>\n",
              "      <td>-0.463481</td>\n",
              "    </tr>\n",
              "  </tbody>\n",
              "</table>\n",
              "<p>5 rows × 29 columns</p>\n",
              "</div>"
            ],
            "text/plain": [
              "   is_duplicate  spacy_similarity  len_q1  len_q2  diff_len  len_char_q1  \\\n",
              "0             0          0.313089       5      36       -31            4   \n",
              "1             0         -0.067930       5      71       -66            5   \n",
              "2             0          0.664722      23      32        -9           12   \n",
              "3             0          0.275611      19      56       -37           10   \n",
              "4             0          0.587580      50      30        20           21   \n",
              "\n",
              "   len_char_q2  len_word_q1  len_word_q2  common_words  ...  cityblock_dis  \\\n",
              "0           16            1            7             0  ...      18.186985   \n",
              "1           24            1           12             0  ...      13.787235   \n",
              "2           13            4            6             1  ...      11.457092   \n",
              "3           22            4           15             0  ...      17.435374   \n",
              "4           15           10            6             0  ...      14.968091   \n",
              "\n",
              "   jaccard_dis  canberra_dis  euclidean_dis  minkowski_dis  braycurtis_dis  \\\n",
              "0          1.0    206.461737       1.311902       1.311902        0.872352   \n",
              "1          1.0    300.000000       1.000000       1.000000        1.000000   \n",
              "2          1.0    155.035952       0.849427       0.849427        0.452261   \n",
              "3          1.0    203.955915       1.256324       1.256324        0.830043   \n",
              "4          1.0    178.222529       1.086451       1.086451        0.631376   \n",
              "\n",
              "    skew_q1   skew_q2    kur_q1    kur_q2  \n",
              "0 -0.155758 -0.087513  0.188890 -0.115978  \n",
              "1  0.000000  0.085398 -3.000000  0.117636  \n",
              "2  0.065101  0.079091 -0.007587 -0.470184  \n",
              "3 -0.007600  0.018465  0.056253  0.015438  \n",
              "4  0.027209  0.037700  0.021048 -0.463481  \n",
              "\n",
              "[5 rows x 29 columns]"
            ]
          },
          "metadata": {
            "tags": []
          },
          "execution_count": 50
        }
      ]
    },
    {
      "cell_type": "code",
      "metadata": {
        "id": "0pbjibO601RS",
        "colab_type": "code",
        "outputId": "f339329d-9799-46c4-ee3e-0cea97230b3b",
        "colab": {}
      },
      "source": [
        "# drop NA\n",
        "df = df.dropna(how=\"any\").reset_index(drop=True)\n",
        "\n",
        "a = 0\n",
        "# checking each question\n",
        "for i in range(a, a+10):\n",
        "    print(df.question1[i])\n",
        "    print(df.question2[i])\n",
        "    print()"
      ],
      "execution_count": 0,
      "outputs": [
        {
          "output_type": "stream",
          "text": [
            "What is the step by step guide to invest in share market in india?\n",
            "What is the step by step guide to invest in share market?\n",
            "\n",
            "What is the story of Kohinoor (Koh-i-Noor) Diamond?\n",
            "What would happen if the Indian government stole the Kohinoor (Koh-i-Noor) diamond back?\n",
            "\n",
            "How can I increase the speed of my internet connection while using a VPN?\n",
            "How can Internet speed be increased by hacking through DNS?\n",
            "\n",
            "Why am I mentally very lonely? How can I solve it?\n",
            "Find the remainder when [math]23^{24}[/math] is divided by 24,23?\n",
            "\n",
            "Which one dissolve in water quikly sugar, salt, methane and carbon di oxide?\n",
            "Which fish would survive in salt water?\n",
            "\n",
            "Astrology: I am a Capricorn Sun Cap moon and cap rising...what does that say about me?\n",
            "I'm a triple Capricorn (Sun, Moon and ascendant in Capricorn) What does this say about me?\n",
            "\n",
            "Should I buy tiago?\n",
            "What keeps childern active and far from phone and video games?\n",
            "\n",
            "How can I be a good geologist?\n",
            "What should I do to be a great geologist?\n",
            "\n",
            "When do you use シ instead of し?\n",
            "When do you use \"&\" instead of \"and\"?\n",
            "\n",
            "Motorola (company): Can I hack my Charter Motorolla DCX3400?\n",
            "How do I hack Motorola DCX3400 for free internet?\n",
            "\n"
          ],
          "name": "stdout"
        }
      ]
    },
    {
      "cell_type": "markdown",
      "metadata": {
        "id": "_Nb1UBYT01R9",
        "colab_type": "text"
      },
      "source": [
        "## Feature Engineering"
      ]
    },
    {
      "cell_type": "code",
      "metadata": {
        "id": "hgTmpobi01SH",
        "colab_type": "code",
        "colab": {}
      },
      "source": [
        "from nltk.corpus import stopwords\n",
        "\n",
        "#English stopwords, a, an, the, this, that ...\n",
        "stop_words = stopwords.words('english')"
      ],
      "execution_count": 0,
      "outputs": []
    },
    {
      "cell_type": "code",
      "metadata": {
        "id": "HpRBD9-y01Sl",
        "colab_type": "code",
        "colab": {}
      },
      "source": [
        "question1 = \"What would  a Trump presidency mean for current international master's students on an F1 visa?\"\n",
        "question2 = \"how will a Tump presidency affect the students presently in US or planning to study in US?\"\n",
        "\n",
        "# sptliting words in each sentance\n",
        "\n",
        "question1 = question1.lower().split()\n",
        "question2 = question2.lower().split()\n",
        "\n",
        "# checking what is the affect of stop_words on the sentance structure,\n",
        "# Removing the stop_words from the quesitons\n",
        "\n",
        "question1 = [w for w in question1 if w not in stop_words]\n",
        "question2 = [w for w in question2 if w not in stop_words]"
      ],
      "execution_count": 0,
      "outputs": []
    },
    {
      "cell_type": "code",
      "metadata": {
        "id": "OY5u7LqT01Tt",
        "colab_type": "code",
        "colab": {}
      },
      "source": [
        "import gensim\n",
        "\n",
        "from gensim.models import Word2Vec"
      ],
      "execution_count": 0,
      "outputs": []
    },
    {
      "cell_type": "code",
      "metadata": {
        "id": "Irp1WHnM01UD",
        "colab_type": "code",
        "colab": {}
      },
      "source": [
        "# Training genism model with Google news data\n",
        "\n",
        "model = gensim.models.KeyedVectors.load_word2vec_format('https://s3.amazonaws.com/dl4j-distribution/GoogleNews-vectors-negative300.bin.gz', binary=True)"
      ],
      "execution_count": 0,
      "outputs": []
    },
    {
      "cell_type": "code",
      "metadata": {
        "id": "Ky198njO01Ua",
        "colab_type": "code",
        "colab": {}
      },
      "source": [
        "# loading important libraries, we may use in the future\n",
        "\n",
        "from pyemd import emd\n",
        "from gensim.similarities import WmdSimilarity\n",
        "from gensim.models.doc2vec import LabeledSentence\n",
        "from gensim.models.doc2vec import TaggedLineDocument"
      ],
      "execution_count": 0,
      "outputs": []
    },
    {
      "cell_type": "code",
      "metadata": {
        "id": "N6J9tfr201Ut",
        "colab_type": "code",
        "outputId": "5e0d54d5-9b78-4ce9-b63b-387a4ccc88dc",
        "colab": {}
      },
      "source": [
        "#Checking how the WMD_Distance compare the two sentances\n",
        "# WMD distance is how much one sentance to similar to another one\n",
        "\n",
        "distance = model.wmdistance(question1, question2)\n",
        "print('distance = %.4f' % distance)"
      ],
      "execution_count": 0,
      "outputs": [
        {
          "output_type": "stream",
          "text": [
            "distance = 2.3514\n"
          ],
          "name": "stdout"
        }
      ]
    },
    {
      "cell_type": "code",
      "metadata": {
        "id": "BHzBS9AT01VT",
        "colab_type": "code",
        "outputId": "412d9a4c-6ea4-426d-a114-1f38ebe780f8",
        "colab": {}
      },
      "source": [
        "# We can compute the normalize WMD by init_sims method, \n",
        "\n",
        "model.init_sims(replace=True)\n",
        "\n",
        "distance = model.wmdistance(question1, question2)\n",
        "\n",
        "print('distance %.4f' % distance)"
      ],
      "execution_count": 0,
      "outputs": [
        {
          "output_type": "stream",
          "text": [
            "distance 0.9461\n"
          ],
          "name": "stdout"
        }
      ]
    },
    {
      "cell_type": "code",
      "metadata": {
        "id": "XYE4-KLE01Vx",
        "colab_type": "code",
        "outputId": "2bd9f01e-f475-40eb-d8e4-bc209eabbbf9",
        "colab": {}
      },
      "source": [
        "question3 = \"How do we prepare for UPSC?\"\n",
        "question4 = \"How do I prepare for civil service?\"\n",
        "\n",
        "distance = model.wmdistance(question3, question4)\n",
        "print('distance = %.4f' % distance)"
      ],
      "execution_count": 0,
      "outputs": [
        {
          "output_type": "stream",
          "text": [
            "distance = 0.4169\n"
          ],
          "name": "stdout"
        }
      ]
    },
    {
      "cell_type": "code",
      "metadata": {
        "id": "lScq8Xa-01WL",
        "colab_type": "code",
        "outputId": "ef08b118-d0e1-4b2f-b7c7-75fefb488f5a",
        "colab": {}
      },
      "source": [
        "model.wmdistance([\"presently\"], [\"this\"])"
      ],
      "execution_count": 0,
      "outputs": [
        {
          "output_type": "execute_result",
          "data": {
            "text/plain": [
              "1.3247870206832886"
            ]
          },
          "metadata": {
            "tags": []
          },
          "execution_count": 12
        }
      ]
    },
    {
      "cell_type": "code",
      "metadata": {
        "id": "NOIButkZ01Wm",
        "colab_type": "code",
        "outputId": "9ace0908-a956-47c4-a5bd-6813fc9c62b9",
        "colab": {}
      },
      "source": [
        "question5 = \"What is the stall speed and AOA of an f-14 with wings fully swept back?\"\n",
        "question6 = \"Why did aircraft stop using variable-sweep wings, like those on an F-14?\"\n",
        "\n",
        "distance = model.wmdistance(question5, question6)\n",
        "print('distance = %.4f' % distance)"
      ],
      "execution_count": 0,
      "outputs": [
        {
          "output_type": "stream",
          "text": [
            "distance = 0.2459\n"
          ],
          "name": "stdout"
        }
      ]
    },
    {
      "cell_type": "code",
      "metadata": {
        "id": "MOUi0_Ys01XA",
        "colab_type": "code",
        "outputId": "d47bbed4-1bb6-4dd6-9ca0-7e57ec139622",
        "colab": {}
      },
      "source": [
        "model.init_sims(replace=True)\n",
        "distance = model.wmdistance(question5, question6)\n",
        "print('distance = %.4f' % distance)"
      ],
      "execution_count": 0,
      "outputs": [
        {
          "output_type": "stream",
          "text": [
            "distance = 0.2459\n"
          ],
          "name": "stdout"
        }
      ]
    },
    {
      "cell_type": "code",
      "metadata": {
        "id": "kKtHyM6H01XT",
        "colab_type": "code",
        "outputId": "87e7b194-942e-4df7-9b97-741aed570b1d",
        "colab": {}
      },
      "source": [
        "# Trying out Fuzzywuzzy lib\n",
        "\n",
        "from fuzzywuzzy import fuzz\n",
        "\n",
        "fuzz.ratio(question1, question2)\n"
      ],
      "execution_count": 0,
      "outputs": [
        {
          "output_type": "execute_result",
          "data": {
            "text/plain": [
              "63"
            ]
          },
          "metadata": {
            "tags": []
          },
          "execution_count": 15
        }
      ]
    },
    {
      "cell_type": "code",
      "metadata": {
        "id": "OWuy5vrB01Xp",
        "colab_type": "code",
        "outputId": "ae4bcdc4-a6fc-430f-a112-18aa122d0bb2",
        "colab": {}
      },
      "source": [
        "# As we can see the fuzz lib gives us ratios of how different questions are similar to others, while it may be\n",
        "# a bit harder for it to computer the ratios accuratly, it does it best to compute. We will use different lib like this one \n",
        "# to computer the ratio of all the questions and than use those features in our model\n",
        "\n",
        "fuzz.ratio(question4, question3),fuzz.ratio(question5, question6) \n"
      ],
      "execution_count": 0,
      "outputs": [
        {
          "output_type": "execute_result",
          "data": {
            "text/plain": [
              "(68, 42)"
            ]
          },
          "metadata": {
            "tags": []
          },
          "execution_count": 16
        }
      ]
    },
    {
      "cell_type": "code",
      "metadata": {
        "id": "YNVxycvt01YC",
        "colab_type": "code",
        "colab": {}
      },
      "source": [
        "# method for WMD distance for each question\n",
        "\n",
        "def wmd(q1, q2):\n",
        "    q1 = str(q1).lower().split()\n",
        "    q2 = str(q2).lower().split()\n",
        "    \n",
        "    q1 = [w for w in q1 if w not in stop_words]\n",
        "    q2 = [w for w in q2 if w not in stop_words]\n",
        "    \n",
        "    return model.wmdistance(q1, q2)\n"
      ],
      "execution_count": 0,
      "outputs": []
    },
    {
      "cell_type": "code",
      "metadata": {
        "id": "wMKRGry101YS",
        "colab_type": "code",
        "colab": {}
      },
      "source": [
        "import nltk\n",
        "\n",
        "def sent2vec(s):\n",
        "    words = str(s).lower()\n",
        "    words = nltk.word_tokenize(words)\n",
        "    words = [w for w in words if not w in stop_words]\n",
        "    words = [w for w in words if w.isalpha()]\n",
        "    \n",
        "    M = []\n",
        "    \n",
        "    for w in words:\n",
        "        try:\n",
        "            M.append(model[w])\n",
        "        except:\n",
        "            continue\n",
        "    M = np.array(M)\n",
        "    v = M.sum(axis=0)\n",
        "    return v/np.sqrt((v**2).sum())"
      ],
      "execution_count": 0,
      "outputs": []
    },
    {
      "cell_type": "code",
      "metadata": {
        "id": "GdpZUivA01Yh",
        "colab_type": "code",
        "colab": {}
      },
      "source": [
        "# normalize WMD distance\n",
        "\n",
        "def norm_wmd(q1, q2):\n",
        "    q1 = str(q1).lower().split()\n",
        "    q2 = str(q2).lower().split()\n",
        "    \n",
        "    q1 = [w for w in q1 if w not in stop_words]\n",
        "    q2 = [w for w in q2 if w not in stop_words]\n",
        "    \n",
        "    return norm_model.wmdistance(q1, q2)"
      ],
      "execution_count": 0,
      "outputs": []
    },
    {
      "cell_type": "code",
      "metadata": {
        "id": "ZzPVeKof01Yu",
        "colab_type": "code",
        "colab": {}
      },
      "source": [
        "# Removing stop_words, a, an, the, and, at etc\n",
        "\n",
        "def remove_stopwords(q1):\n",
        "    q1 = str(q1).lower().split()\n",
        "    \n",
        "    q1 = [w for w in q1 if w not in stop_words]\n",
        "    \n",
        "    return q1"
      ],
      "execution_count": 0,
      "outputs": []
    },
    {
      "cell_type": "code",
      "metadata": {
        "id": "6SA-585e01ZD",
        "colab_type": "code",
        "colab": {}
      },
      "source": [
        "# Removing stop words from each question for further processing\n",
        "# the models that process the sentances when looked at similar text, the question is treated as similar even if stop words are similar\n",
        "# Removing those can be benificial to us\n",
        "\n",
        "df['question1'] = df['question1'].apply(lambda x: \" \".join(remove_stopwords(x)))\n",
        "df['question2'] = df['question2'].apply(lambda x:  \" \".join(remove_stopwords(x)))"
      ],
      "execution_count": 0,
      "outputs": []
    },
    {
      "cell_type": "code",
      "metadata": {
        "id": "3BhOXFqv01ZU",
        "colab_type": "code",
        "colab": {}
      },
      "source": [
        "# Tokenizing, stemming, root words\n",
        "from nltk.stem import PorterStemmer \n",
        "from nltk.tokenize import word_tokenize \n",
        "\n",
        "ps = PorterStemmer() \n",
        "\n",
        "# Word stemming, removing tokens, confining words to its roots, programing -> program etc...\n",
        "def root_words(q1):\n",
        "    words = word_tokenize(q1)\n",
        "    sent = [ps.stem(w) for w in words]\n",
        "    return sent"
      ],
      "execution_count": 0,
      "outputs": []
    },
    {
      "cell_type": "code",
      "metadata": {
        "id": "2VEnxN8601Zj",
        "colab_type": "code",
        "colab": {}
      },
      "source": [
        "#  changing the words to root words, this will help us recognizing the text in future from each other\n",
        "# the models will be able to compare text easily even if the form of word is changed\n",
        "\n",
        "df['question1'] = df['question1'].apply(lambda x:  \" \".join(root_words(x)))\n",
        "df['question2'] = df['question1'].apply(lambda x:  \" \".join(root_words(x)))"
      ],
      "execution_count": 0,
      "outputs": []
    },
    {
      "cell_type": "code",
      "metadata": {
        "id": "1mMDznDD01Zy",
        "colab_type": "code",
        "colab": {}
      },
      "source": [
        "# Removing similar words from both question for comparison\n",
        "\n",
        "def remov_same(q1, q2):\n",
        "    q1 = str(q1).lower().split()\n",
        "    q2 = str(q2).lower().split()\n",
        "    \n",
        "    q1 = [w for w in q1 if ps.stem(w) not in q2]\n",
        "    \n",
        "    return  \" \".join(q1)"
      ],
      "execution_count": 0,
      "outputs": []
    },
    {
      "cell_type": "code",
      "metadata": {
        "id": "LRraT9bJ01Z7",
        "colab_type": "code",
        "colab": {}
      },
      "source": [
        "# removing the same words, for comparison. we will have both questions with all the words and removed similar words for\n",
        "# comparison purposes\n",
        "\n",
        "df['question1_diff'] = df.apply(lambda x: remov_same(x[\"question1\"], x[\"question2\"]), axis=1)\n",
        "df['question2_diff'] = df.apply(lambda x: remov_same(x[\"question2\"], x[\"question1\"]), axis=1)"
      ],
      "execution_count": 0,
      "outputs": []
    },
    {
      "cell_type": "code",
      "metadata": {
        "id": "jZvdyCG-01aE",
        "colab_type": "code",
        "colab": {}
      },
      "source": [
        "#spaCy Similarity checking\n",
        "import spacy\n",
        "nlp = spacy.load('en_core_web_lg')\n",
        "\n",
        "def spacy_sam(q1, q2):\n",
        "    q1 = nlp(q1)\n",
        "    q2 = nlp(q2)\n",
        "    \n",
        "    return q1.similarity(q2)"
      ],
      "execution_count": 0,
      "outputs": []
    },
    {
      "cell_type": "code",
      "metadata": {
        "id": "3TTggx7e01aS",
        "colab_type": "code",
        "colab": {}
      },
      "source": [
        "# Spacy Similarity between questions that have no same words in them\n",
        "\n",
        "df['spacy_similarity'] = df.apply(lambda x: spacy_sam(x['question1_diff'], x['question2_diff']), axis=1)"
      ],
      "execution_count": 0,
      "outputs": []
    },
    {
      "cell_type": "code",
      "metadata": {
        "id": "gp4dg7vR01ad",
        "colab_type": "code",
        "colab": {}
      },
      "source": [
        "# Spacy similarity between the questions with root words similar\n",
        "\n",
        "df['spacy_sameqs_similarity'] = df.apply(lambda x: spacy_sam(x['question1'], x['question2']), axis=1)"
      ],
      "execution_count": 0,
      "outputs": []
    },
    {
      "cell_type": "code",
      "metadata": {
        "id": "VF6FCz4H01al",
        "colab_type": "code",
        "colab": {}
      },
      "source": [
        "#length of each string in question 1 and 2\n",
        "df['len_q1'] = df['question1'].apply(lambda x: len(str(x)))\n",
        "df['len_q2'] = df['question2'].apply(lambda x: len(str(x)))\n",
        "\n",
        "# difference between question 1 and 2 lengths\n",
        "df['diff_len'] = df['len_q1'] - df['len_q2']\n",
        "\n",
        "# number of char in of each string in question 1 and 2\n",
        "df['len_char_q1'] = df['question1'].apply(lambda x: len(''.join(set(str(x).replace(' ', '')))))\n",
        "df['len_char_q2'] = df['question2'].apply(lambda x: len(''.join(set(str(x).replace(' ', '')))))\n",
        "\n",
        "# length of each word in question 1 and 2\n",
        "df['len_word_q1'] = df['question1'].apply(lambda x: len(str(x).split()))\n",
        "df['len_word_q2'] = df['question2'].apply(lambda x: len(str(x).split()))\n",
        "\n",
        "# common words\n",
        "df['common_words'] = df.apply(lambda x: len(set(str(x['question1']).lower().split()).intersection(set(str(x['question2']).lower().split()))), axis=1)\n",
        "\n",
        "# Fuzz Ratio, the similarity or differences between each question, there are different methods in \n",
        "# fuzz class that we are using, each has its own formula of calculation\n",
        "\n",
        "df['fuzz_ratio'] = df.apply(lambda x: fuzz.ratio(str(x['question1_diff']), str(x['question2_diff'])), axis=1)\n",
        "\n",
        "df['fuzz_partial_ratio'] = df.apply(lambda x: fuzz.partial_ratio(str(x['question1_diff']), str(x['question2_diff'])), axis=1)\n",
        "\n",
        "df['fuzz_partial_token_set_ratio'] = df.apply(lambda x: fuzz.partial_token_set_ratio(str(x['question1_diff']), str(x['question2_diff'])), axis=1)\n",
        "\n",
        "df['fuzz_partial_token_sort_ratio'] = df.apply(lambda x: fuzz.partial_token_sort_ratio(str(x['question1_diff']), str(x['question2_diff'])), axis=1)\n",
        "\n",
        "df['fuzz_token_set_ratio'] = df.apply(lambda x: fuzz.token_set_ratio(str(x['question1_diff']), str(x['question2_diff'])), axis=1)\n",
        "\n",
        "df['fuzz_token_sort_ratio'] = df.apply(lambda x: fuzz.token_sort_ratio(str(x['question1_diff']), str(x['question2_diff'])), axis=1)\n"
      ],
      "execution_count": 0,
      "outputs": []
    },
    {
      "cell_type": "code",
      "metadata": {
        "id": "234kbXul01av",
        "colab_type": "code",
        "colab": {}
      },
      "source": [
        "# fuzz ratios between question1 and question2\n",
        "df['fuzz_ratio_same'] = df.apply(lambda x: fuzz.ratio(str(x['question1']), str(x['question2'])), axis=1)\n",
        "\n",
        "df['fuzz_partial_ratio_same'] = df.apply(lambda x: fuzz.partial_ratio(str(x['question1']), str(x['question2'])), axis=1)\n",
        "\n",
        "df['fuzz_partial_token_set_ratio_same'] = df.apply(lambda x: fuzz.partial_token_set_ratio(str(x['question1']), str(x['question2'])), axis=1)\n",
        "\n",
        "df['fuzz_partial_token_sort_ratio_same'] = df.apply(lambda x: fuzz.partial_token_sort_ratio(str(x['question1']), str(x['question2'])), axis=1)\n",
        "\n",
        "df['fuzz_token_set_ratio_same'] = df.apply(lambda x: fuzz.token_set_ratio(str(x['question1']), str(x['question2'])), axis=1)\n",
        "\n",
        "df['fuzz_token_sort_ratio_same'] = df.apply(lambda x: fuzz.token_sort_ratio(str(x['question1']), str(x['question2'])), axis=1)"
      ],
      "execution_count": 0,
      "outputs": []
    },
    {
      "cell_type": "code",
      "metadata": {
        "scrolled": true,
        "id": "uLpyZ9GP01a4",
        "colab_type": "code",
        "outputId": "9d0c845b-f620-43bf-e382-96f5517cf209",
        "colab": {}
      },
      "source": [
        "df.head()"
      ],
      "execution_count": 0,
      "outputs": [
        {
          "output_type": "execute_result",
          "data": {
            "text/html": [
              "<div>\n",
              "<style scoped>\n",
              "    .dataframe tbody tr th:only-of-type {\n",
              "        vertical-align: middle;\n",
              "    }\n",
              "\n",
              "    .dataframe tbody tr th {\n",
              "        vertical-align: top;\n",
              "    }\n",
              "\n",
              "    .dataframe thead th {\n",
              "        text-align: right;\n",
              "    }\n",
              "</style>\n",
              "<table border=\"1\" class=\"dataframe\">\n",
              "  <thead>\n",
              "    <tr style=\"text-align: right;\">\n",
              "      <th></th>\n",
              "      <th>id</th>\n",
              "      <th>qid1</th>\n",
              "      <th>qid2</th>\n",
              "      <th>question1</th>\n",
              "      <th>question2</th>\n",
              "      <th>is_duplicate</th>\n",
              "      <th>spacy_similarity</th>\n",
              "      <th>len_q1</th>\n",
              "      <th>len_q2</th>\n",
              "      <th>diff_len</th>\n",
              "      <th>...</th>\n",
              "      <th>len_char_q2</th>\n",
              "      <th>len_word_q1</th>\n",
              "      <th>len_word_q2</th>\n",
              "      <th>common_words</th>\n",
              "      <th>fuzz_ratio</th>\n",
              "      <th>fuzz_partial_ratio</th>\n",
              "      <th>fuzz_partial_token_set_ratio</th>\n",
              "      <th>fuzz_partial_token_sort_ratio</th>\n",
              "      <th>fuzz_token_set_ratio</th>\n",
              "      <th>fuzz_token_sort_ratio</th>\n",
              "    </tr>\n",
              "  </thead>\n",
              "  <tbody>\n",
              "    <tr>\n",
              "      <th>0</th>\n",
              "      <td>0</td>\n",
              "      <td>1</td>\n",
              "      <td>2</td>\n",
              "      <td>india</td>\n",
              "      <td>step step guid invest share market ?</td>\n",
              "      <td>0</td>\n",
              "      <td>0.313089</td>\n",
              "      <td>5</td>\n",
              "      <td>36</td>\n",
              "      <td>-31</td>\n",
              "      <td>...</td>\n",
              "      <td>16</td>\n",
              "      <td>1</td>\n",
              "      <td>7</td>\n",
              "      <td>0</td>\n",
              "      <td>20</td>\n",
              "      <td>40</td>\n",
              "      <td>40</td>\n",
              "      <td>40</td>\n",
              "      <td>24</td>\n",
              "      <td>21</td>\n",
              "    </tr>\n",
              "    <tr>\n",
              "      <th>1</th>\n",
              "      <td>1</td>\n",
              "      <td>3</td>\n",
              "      <td>4</td>\n",
              "      <td>stori</td>\n",
              "      <td>would happen indian govern stole kohinoor ( ko...</td>\n",
              "      <td>0</td>\n",
              "      <td>-0.067930</td>\n",
              "      <td>5</td>\n",
              "      <td>71</td>\n",
              "      <td>-66</td>\n",
              "      <td>...</td>\n",
              "      <td>24</td>\n",
              "      <td>1</td>\n",
              "      <td>12</td>\n",
              "      <td>0</td>\n",
              "      <td>13</td>\n",
              "      <td>60</td>\n",
              "      <td>60</td>\n",
              "      <td>60</td>\n",
              "      <td>9</td>\n",
              "      <td>9</td>\n",
              "    </tr>\n",
              "    <tr>\n",
              "      <th>2</th>\n",
              "      <td>2</td>\n",
              "      <td>5</td>\n",
              "      <td>6</td>\n",
              "      <td>increas connect use vpn</td>\n",
              "      <td>internet speed increas hack dn ?</td>\n",
              "      <td>0</td>\n",
              "      <td>0.664722</td>\n",
              "      <td>23</td>\n",
              "      <td>32</td>\n",
              "      <td>-9</td>\n",
              "      <td>...</td>\n",
              "      <td>13</td>\n",
              "      <td>4</td>\n",
              "      <td>6</td>\n",
              "      <td>1</td>\n",
              "      <td>40</td>\n",
              "      <td>48</td>\n",
              "      <td>100</td>\n",
              "      <td>57</td>\n",
              "      <td>60</td>\n",
              "      <td>53</td>\n",
              "    </tr>\n",
              "    <tr>\n",
              "      <th>3</th>\n",
              "      <td>3</td>\n",
              "      <td>7</td>\n",
              "      <td>8</td>\n",
              "      <td>mental lone solv it</td>\n",
              "      <td>find remaind [ math ] 23^ { 24 } [ /math ] div...</td>\n",
              "      <td>0</td>\n",
              "      <td>0.275611</td>\n",
              "      <td>19</td>\n",
              "      <td>56</td>\n",
              "      <td>-37</td>\n",
              "      <td>...</td>\n",
              "      <td>22</td>\n",
              "      <td>4</td>\n",
              "      <td>15</td>\n",
              "      <td>0</td>\n",
              "      <td>21</td>\n",
              "      <td>32</td>\n",
              "      <td>37</td>\n",
              "      <td>42</td>\n",
              "      <td>29</td>\n",
              "      <td>27</td>\n",
              "    </tr>\n",
              "    <tr>\n",
              "      <th>4</th>\n",
              "      <td>4</td>\n",
              "      <td>9</td>\n",
              "      <td>10</td>\n",
              "      <td>one dissolv quikli sugar , , methan carbon di ...</td>\n",
              "      <td>fish would surviv salt water ?</td>\n",
              "      <td>0</td>\n",
              "      <td>0.587580</td>\n",
              "      <td>50</td>\n",
              "      <td>30</td>\n",
              "      <td>20</td>\n",
              "      <td>...</td>\n",
              "      <td>15</td>\n",
              "      <td>10</td>\n",
              "      <td>6</td>\n",
              "      <td>0</td>\n",
              "      <td>38</td>\n",
              "      <td>40</td>\n",
              "      <td>39</td>\n",
              "      <td>39</td>\n",
              "      <td>32</td>\n",
              "      <td>32</td>\n",
              "    </tr>\n",
              "  </tbody>\n",
              "</table>\n",
              "<p>5 rows × 21 columns</p>\n",
              "</div>"
            ],
            "text/plain": [
              "   id  qid1  qid2                                          question1  \\\n",
              "0   0     1     2                                              india   \n",
              "1   1     3     4                                              stori   \n",
              "2   2     5     6                            increas connect use vpn   \n",
              "3   3     7     8                                mental lone solv it   \n",
              "4   4     9    10  one dissolv quikli sugar , , methan carbon di ...   \n",
              "\n",
              "                                           question2  is_duplicate  \\\n",
              "0               step step guid invest share market ?             0   \n",
              "1  would happen indian govern stole kohinoor ( ko...             0   \n",
              "2                   internet speed increas hack dn ?             0   \n",
              "3  find remaind [ math ] 23^ { 24 } [ /math ] div...             0   \n",
              "4                     fish would surviv salt water ?             0   \n",
              "\n",
              "   spacy_similarity  len_q1  len_q2  diff_len  ...  len_char_q2  len_word_q1  \\\n",
              "0          0.313089       5      36       -31  ...           16            1   \n",
              "1         -0.067930       5      71       -66  ...           24            1   \n",
              "2          0.664722      23      32        -9  ...           13            4   \n",
              "3          0.275611      19      56       -37  ...           22            4   \n",
              "4          0.587580      50      30        20  ...           15           10   \n",
              "\n",
              "   len_word_q2  common_words  fuzz_ratio  fuzz_partial_ratio  \\\n",
              "0            7             0          20                  40   \n",
              "1           12             0          13                  60   \n",
              "2            6             1          40                  48   \n",
              "3           15             0          21                  32   \n",
              "4            6             0          38                  40   \n",
              "\n",
              "   fuzz_partial_token_set_ratio  fuzz_partial_token_sort_ratio  \\\n",
              "0                            40                             40   \n",
              "1                            60                             60   \n",
              "2                           100                             57   \n",
              "3                            37                             42   \n",
              "4                            39                             39   \n",
              "\n",
              "   fuzz_token_set_ratio  fuzz_token_sort_ratio  \n",
              "0                    24                     21  \n",
              "1                     9                      9  \n",
              "2                    60                     53  \n",
              "3                    29                     27  \n",
              "4                    32                     32  \n",
              "\n",
              "[5 rows x 21 columns]"
            ]
          },
          "metadata": {
            "tags": []
          },
          "execution_count": 32
        }
      ]
    },
    {
      "cell_type": "code",
      "metadata": {
        "id": "p3gPMZWa01bK",
        "colab_type": "code",
        "colab": {}
      },
      "source": [
        "# WMD distance between each question with same text included\n",
        "\n",
        "df['wmd'] = df.apply(lambda x: wmd(x['question1_diff'], x['question2_diff']), axis=1)"
      ],
      "execution_count": 0,
      "outputs": []
    },
    {
      "cell_type": "code",
      "metadata": {
        "id": "Tg0UdgO-01bV",
        "colab_type": "code",
        "colab": {}
      },
      "source": [
        "#WMD distance between each question with root words, words can be same in each question\n",
        "\n",
        "df['wmd_same'] = df.apply(lambda x: wmd(x['question1'], x['question2']), axis=1)"
      ],
      "execution_count": 0,
      "outputs": []
    },
    {
      "cell_type": "code",
      "metadata": {
        "id": "FQO9T8mA01bg",
        "colab_type": "code",
        "colab": {}
      },
      "source": [
        "# training model with google News, for normalize distance WMD \n",
        "norm_model = gensim.models.KeyedVectors.load_word2vec_format('https://s3.amazonaws.com/dl4j-distribution/GoogleNews-vectors-negative300.bin.gz', binary=True)\n",
        "norm_model.init_sims(replace=True)"
      ],
      "execution_count": 0,
      "outputs": []
    },
    {
      "cell_type": "code",
      "metadata": {
        "id": "ubPkrlzu01bp",
        "colab_type": "code",
        "colab": {}
      },
      "source": [
        "# normalize WMD disntance\n",
        "\n",
        "df['norm_wmd'] = df.apply(lambda x: norm_wmd(x['question1_diff'], x['question2_diff']), axis=1)"
      ],
      "execution_count": 0,
      "outputs": []
    },
    {
      "cell_type": "code",
      "metadata": {
        "id": "iYf5Z7tI01b0",
        "colab_type": "code",
        "colab": {}
      },
      "source": [
        "# Normalized WMD distance for question including same words\n",
        "\n",
        "df['norm_wmd_same'] = df.apply(lambda x: norm_wmd(x['question1'], x['question2']), axis=1)"
      ],
      "execution_count": 0,
      "outputs": []
    },
    {
      "cell_type": "code",
      "metadata": {
        "id": "TKV9MMHc01b8",
        "colab_type": "code",
        "outputId": "20d67e8c-7cce-4683-a5f5-3e840c4cafe0",
        "colab": {}
      },
      "source": [
        "from tqdm import tqdm_notebook\n",
        "question1_vector = np.zeros((df.shape[0], 300))\n",
        "\n",
        "for i, q in enumerate(tqdm_notebook(df['question1'].values)):\n",
        "    question1_vector[i, :] = sent2vec(q)\n",
        "    \n",
        "question2_vector = np.zeros((df.shape[0], 300))\n",
        "\n",
        "for i, q in enumerate(tqdm_notebook(df['question2'].values)):\n",
        "    question2_vector[i, :] = sent2vec(q)"
      ],
      "execution_count": 0,
      "outputs": [
        {
          "output_type": "display_data",
          "data": {
            "application/vnd.jupyter.widget-view+json": {
              "model_id": "6981db5fc29345c9bc74c729355ffbb2",
              "version_major": 2,
              "version_minor": 0
            },
            "text/plain": [
              "HBox(children=(IntProgress(value=0, max=404287), HTML(value='')))"
            ]
          },
          "metadata": {
            "tags": []
          }
        },
        {
          "output_type": "stream",
          "text": [
            "\n"
          ],
          "name": "stdout"
        },
        {
          "output_type": "display_data",
          "data": {
            "application/vnd.jupyter.widget-view+json": {
              "model_id": "6c9f528f36fe4ca3854bb5010e777b0e",
              "version_major": 2,
              "version_minor": 0
            },
            "text/plain": [
              "HBox(children=(IntProgress(value=0, max=404287), HTML(value='')))"
            ]
          },
          "metadata": {
            "tags": []
          }
        },
        {
          "output_type": "stream",
          "text": [
            "\n"
          ],
          "name": "stdout"
        }
      ]
    },
    {
      "cell_type": "code",
      "metadata": {
        "id": "q1ZZYR5N01cE",
        "colab_type": "code",
        "colab": {}
      },
      "source": [
        "import scipy.spatial.distance as dis\n",
        "from scipy.stats import skew\n",
        "from scipy.stats import kurtosis \n"
      ],
      "execution_count": 0,
      "outputs": []
    },
    {
      "cell_type": "code",
      "metadata": {
        "id": "QBQ5uUpL01cL",
        "colab_type": "code",
        "colab": {}
      },
      "source": [
        "# different distances between each question as features\n",
        "\n",
        "df['cosine_dis'] = [dis.cosine(x,y) for (x, y) in zip(np.nan_to_num(question1_vector), np.nan_to_num(question2_vector))]\n",
        "\n",
        "df['cityblock_dis'] = [dis.cityblock(x,y) for (x, y) in zip(np.nan_to_num(question1_vector), np.nan_to_num(question2_vector))]\n",
        "\n",
        "df['jaccard_dis'] = [dis.jaccard(x,y) for (x, y) in zip(np.nan_to_num(question1_vector), np.nan_to_num(question2_vector))]\n",
        "\n",
        "df['canberra_dis'] = [dis.canberra(x,y) for (x, y) in zip(np.nan_to_num(question1_vector), np.nan_to_num(question2_vector))]\n",
        "\n",
        "df['euclidean_dis'] = [dis.euclidean(x,y) for (x, y) in zip(np.nan_to_num(question1_vector), np.nan_to_num(question2_vector))]\n",
        "\n",
        "df['minkowski_dis'] = [dis.minkowski(x,y) for (x, y) in zip(np.nan_to_num(question1_vector), np.nan_to_num(question2_vector))]\n",
        "\n",
        "df['braycurtis_dis'] = [dis.braycurtis(x,y) for (x, y) in zip(np.nan_to_num(question1_vector), np.nan_to_num(question2_vector))]\n",
        "\n",
        "df['skew_q1'] = [skew(x) for x in np.nan_to_num(question1_vector)]\n",
        "\n",
        "df['skew_q2'] = [skew(x) for x in np.nan_to_num(question2_vector)]\n",
        "\n",
        "df['kur_q1'] = [kurtosis(x) for x in np.nan_to_num(question1_vector)]\n",
        "\n",
        "df['kur_q2'] = [kurtosis(x) for x in np.nan_to_num(question2_vector)]"
      ],
      "execution_count": 0,
      "outputs": []
    },
    {
      "cell_type": "code",
      "metadata": {
        "id": "GBA9-tT401cR",
        "colab_type": "code",
        "colab": {}
      },
      "source": [
        "from sklearn import preprocessing\n"
      ],
      "execution_count": 0,
      "outputs": []
    },
    {
      "cell_type": "code",
      "metadata": {
        "id": "kPjUvyHD01cW",
        "colab_type": "code",
        "colab": {}
      },
      "source": [
        "# removing nulls\n",
        "\n",
        "df[df==np.inf]=np.nan\n",
        "df.fillna(df.mean(), inplace=True)"
      ],
      "execution_count": 0,
      "outputs": []
    },
    {
      "cell_type": "code",
      "metadata": {
        "id": "FIY9kw9K01cc",
        "colab_type": "code",
        "outputId": "f5f3fcfa-3f80-40cb-93cc-b24d29bd4cc8",
        "colab": {}
      },
      "source": [
        "df.columns"
      ],
      "execution_count": 0,
      "outputs": [
        {
          "output_type": "execute_result",
          "data": {
            "text/plain": [
              "Index(['id', 'qid1', 'qid2', 'question1', 'question2', 'is_duplicate',\n",
              "       'spacy_similarity', 'len_q1', 'len_q2', 'diff_len', 'len_char_q1',\n",
              "       'len_char_q2', 'len_word_q1', 'len_word_q2', 'common_words',\n",
              "       'fuzz_ratio', 'fuzz_partial_ratio', 'fuzz_partial_token_set_ratio',\n",
              "       'fuzz_partial_token_sort_ratio', 'fuzz_token_set_ratio',\n",
              "       'fuzz_token_sort_ratio', 'wmd', 'norm_wmd', 'cosine_dis',\n",
              "       'cityblock_dis', 'jaccard_dis', 'canberra_dis', 'euclidean_dis',\n",
              "       'minkowski_dis', 'braycurtis_dis', 'skew_q1', 'skew_q2', 'kur_q1',\n",
              "       'kur_q2'],\n",
              "      dtype='object')"
            ]
          },
          "metadata": {
            "tags": []
          },
          "execution_count": 41
        }
      ]
    },
    {
      "cell_type": "code",
      "metadata": {
        "id": "zbe7OyDw01cl",
        "colab_type": "code",
        "colab": {}
      },
      "source": [
        "#df.drop(['question1', 'question2', 'id', 'qid1', 'qid2'], axis=1, inplace=True)\n",
        "df.drop(['question1', 'question2'], axis=1, inplace=True)\n",
        "\n",
        "#df = df[pd.notnull(df['cosine_dis'])]\n",
        "#df = df[pd.notnull(df['jaccard_dis'])]\n",
        "\n",
        "X = df.loc[:, df.columns != 'is_duplicate']\n",
        "y = df.loc[:, df.columns == 'is_duplicate']"
      ],
      "execution_count": 0,
      "outputs": []
    },
    {
      "cell_type": "code",
      "metadata": {
        "id": "DZpKu_Rg01cq",
        "colab_type": "code",
        "outputId": "4e259f6c-0b8c-42cc-d4c2-b0595df399a7",
        "colab": {}
      },
      "source": [
        "df.info()"
      ],
      "execution_count": 0,
      "outputs": [
        {
          "output_type": "stream",
          "text": [
            "<class 'pandas.core.frame.DataFrame'>\n",
            "Int64Index: 404287 entries, 0 to 404286\n",
            "Data columns (total 38 columns):\n",
            "is_duplicate                          404287 non-null int64\n",
            "spacy_similarity                      404287 non-null float64\n",
            "len_q1                                404287 non-null int64\n",
            "len_q2                                404287 non-null int64\n",
            "diff_len                              404287 non-null int64\n",
            "len_char_q1                           404287 non-null int64\n",
            "len_char_q2                           404287 non-null int64\n",
            "len_word_q1                           404287 non-null int64\n",
            "len_word_q2                           404287 non-null int64\n",
            "common_words                          404287 non-null int64\n",
            "fuzz_ratio                            404287 non-null int64\n",
            "fuzz_partial_ratio                    404287 non-null int64\n",
            "fuzz_partial_token_set_ratio          404287 non-null int64\n",
            "fuzz_partial_token_sort_ratio         404287 non-null int64\n",
            "fuzz_token_set_ratio                  404287 non-null int64\n",
            "fuzz_token_sort_ratio                 404287 non-null int64\n",
            "wmd                                   404287 non-null float64\n",
            "norm_wmd                              404287 non-null float64\n",
            "cosine_dis                            404287 non-null float64\n",
            "cityblock_dis                         404287 non-null float64\n",
            "jaccard_dis                           404287 non-null float64\n",
            "canberra_dis                          404287 non-null float64\n",
            "euclidean_dis                         404287 non-null float64\n",
            "minkowski_dis                         404287 non-null float64\n",
            "braycurtis_dis                        404287 non-null float64\n",
            "skew_q1                               404287 non-null float64\n",
            "skew_q2                               404287 non-null float64\n",
            "kur_q1                                404287 non-null float64\n",
            "kur_q2                                404287 non-null float64\n",
            "spacy_sameqs_similarity               404287 non-null float64\n",
            "fuzz_ratio_same                       404287 non-null int64\n",
            "fuzz_partial_ratio_same               404287 non-null int64\n",
            "fuzz_partial_token_set_ratio_same     404287 non-null int64\n",
            "fuzz_partial_token_sort_ratio_same    404287 non-null int64\n",
            "fuzz_token_set_ratio_same             404287 non-null int64\n",
            "fuzz_token_sort_ratio_same            404287 non-null int64\n",
            "wmd_same                              404287 non-null float64\n",
            "norm_wmd_same                         404287 non-null float64\n",
            "dtypes: float64(17), int64(21)\n",
            "memory usage: 120.3 MB\n"
          ],
          "name": "stdout"
        }
      ]
    },
    {
      "cell_type": "markdown",
      "metadata": {
        "id": "wo-i5zPJ01cy",
        "colab_type": "text"
      },
      "source": [
        "## Splitting training and test sets"
      ]
    },
    {
      "cell_type": "code",
      "metadata": {
        "id": "IiqLbxn701c1",
        "colab_type": "code",
        "outputId": "d68946cc-4def-44e1-be23-2aeccef28756",
        "colab": {}
      },
      "source": [
        "from sklearn import preprocessing, model_selection\n",
        "\n",
        "#splitting the dataset to training and testing sets\n",
        "\n",
        "X_train, X_holdout, y_train, y_holdout = model_selection.train_test_split(X, y, test_size=0.2, random_state=7)\n",
        "\n",
        "# checking the shape of our data sets\n",
        "\n",
        "X_train.shape, X_holdout.shape, y_train.shape, y_holdout.shape"
      ],
      "execution_count": 0,
      "outputs": [
        {
          "output_type": "execute_result",
          "data": {
            "text/plain": [
              "((323429, 37), (80858, 37), (323429, 1), (80858, 1))"
            ]
          },
          "metadata": {
            "tags": []
          },
          "execution_count": 60
        }
      ]
    },
    {
      "cell_type": "code",
      "metadata": {
        "id": "2DxIZcHT01c8",
        "colab_type": "code",
        "outputId": "1614436f-ed52-418e-842b-59b1c0cc8b8d",
        "colab": {}
      },
      "source": [
        "df.head(10)"
      ],
      "execution_count": 0,
      "outputs": [
        {
          "output_type": "execute_result",
          "data": {
            "text/html": [
              "<div>\n",
              "<style scoped>\n",
              "    .dataframe tbody tr th:only-of-type {\n",
              "        vertical-align: middle;\n",
              "    }\n",
              "\n",
              "    .dataframe tbody tr th {\n",
              "        vertical-align: top;\n",
              "    }\n",
              "\n",
              "    .dataframe thead th {\n",
              "        text-align: right;\n",
              "    }\n",
              "</style>\n",
              "<table border=\"1\" class=\"dataframe\">\n",
              "  <thead>\n",
              "    <tr style=\"text-align: right;\">\n",
              "      <th></th>\n",
              "      <th>is_duplicate</th>\n",
              "      <th>spacy_similarity</th>\n",
              "      <th>len_q1</th>\n",
              "      <th>len_q2</th>\n",
              "      <th>diff_len</th>\n",
              "      <th>len_char_q1</th>\n",
              "      <th>len_char_q2</th>\n",
              "      <th>len_word_q1</th>\n",
              "      <th>len_word_q2</th>\n",
              "      <th>common_words</th>\n",
              "      <th>...</th>\n",
              "      <th>cityblock_dis</th>\n",
              "      <th>jaccard_dis</th>\n",
              "      <th>canberra_dis</th>\n",
              "      <th>euclidean_dis</th>\n",
              "      <th>minkowski_dis</th>\n",
              "      <th>braycurtis_dis</th>\n",
              "      <th>skew_q1</th>\n",
              "      <th>skew_q2</th>\n",
              "      <th>kur_q1</th>\n",
              "      <th>kur_q2</th>\n",
              "    </tr>\n",
              "  </thead>\n",
              "  <tbody>\n",
              "    <tr>\n",
              "      <th>0</th>\n",
              "      <td>0</td>\n",
              "      <td>0.313089</td>\n",
              "      <td>5</td>\n",
              "      <td>36</td>\n",
              "      <td>-31</td>\n",
              "      <td>4</td>\n",
              "      <td>16</td>\n",
              "      <td>1</td>\n",
              "      <td>7</td>\n",
              "      <td>0</td>\n",
              "      <td>...</td>\n",
              "      <td>18.186985</td>\n",
              "      <td>1.0</td>\n",
              "      <td>206.461737</td>\n",
              "      <td>1.311902</td>\n",
              "      <td>1.311902</td>\n",
              "      <td>0.872352</td>\n",
              "      <td>-0.155758</td>\n",
              "      <td>-0.087513</td>\n",
              "      <td>0.188890</td>\n",
              "      <td>-0.115978</td>\n",
              "    </tr>\n",
              "    <tr>\n",
              "      <th>1</th>\n",
              "      <td>0</td>\n",
              "      <td>-0.067930</td>\n",
              "      <td>5</td>\n",
              "      <td>71</td>\n",
              "      <td>-66</td>\n",
              "      <td>5</td>\n",
              "      <td>24</td>\n",
              "      <td>1</td>\n",
              "      <td>12</td>\n",
              "      <td>0</td>\n",
              "      <td>...</td>\n",
              "      <td>13.787235</td>\n",
              "      <td>1.0</td>\n",
              "      <td>300.000000</td>\n",
              "      <td>1.000000</td>\n",
              "      <td>1.000000</td>\n",
              "      <td>1.000000</td>\n",
              "      <td>0.000000</td>\n",
              "      <td>0.085398</td>\n",
              "      <td>-3.000000</td>\n",
              "      <td>0.117636</td>\n",
              "    </tr>\n",
              "    <tr>\n",
              "      <th>2</th>\n",
              "      <td>0</td>\n",
              "      <td>0.664722</td>\n",
              "      <td>23</td>\n",
              "      <td>32</td>\n",
              "      <td>-9</td>\n",
              "      <td>12</td>\n",
              "      <td>13</td>\n",
              "      <td>4</td>\n",
              "      <td>6</td>\n",
              "      <td>1</td>\n",
              "      <td>...</td>\n",
              "      <td>11.457092</td>\n",
              "      <td>1.0</td>\n",
              "      <td>155.035952</td>\n",
              "      <td>0.849427</td>\n",
              "      <td>0.849427</td>\n",
              "      <td>0.452261</td>\n",
              "      <td>0.065101</td>\n",
              "      <td>0.079091</td>\n",
              "      <td>-0.007587</td>\n",
              "      <td>-0.470184</td>\n",
              "    </tr>\n",
              "    <tr>\n",
              "      <th>3</th>\n",
              "      <td>0</td>\n",
              "      <td>0.275611</td>\n",
              "      <td>19</td>\n",
              "      <td>56</td>\n",
              "      <td>-37</td>\n",
              "      <td>10</td>\n",
              "      <td>22</td>\n",
              "      <td>4</td>\n",
              "      <td>15</td>\n",
              "      <td>0</td>\n",
              "      <td>...</td>\n",
              "      <td>17.435374</td>\n",
              "      <td>1.0</td>\n",
              "      <td>203.955915</td>\n",
              "      <td>1.256324</td>\n",
              "      <td>1.256324</td>\n",
              "      <td>0.830043</td>\n",
              "      <td>-0.007600</td>\n",
              "      <td>0.018465</td>\n",
              "      <td>0.056253</td>\n",
              "      <td>0.015438</td>\n",
              "    </tr>\n",
              "    <tr>\n",
              "      <th>4</th>\n",
              "      <td>0</td>\n",
              "      <td>0.587580</td>\n",
              "      <td>50</td>\n",
              "      <td>30</td>\n",
              "      <td>20</td>\n",
              "      <td>21</td>\n",
              "      <td>15</td>\n",
              "      <td>10</td>\n",
              "      <td>6</td>\n",
              "      <td>0</td>\n",
              "      <td>...</td>\n",
              "      <td>14.968091</td>\n",
              "      <td>1.0</td>\n",
              "      <td>178.222529</td>\n",
              "      <td>1.086451</td>\n",
              "      <td>1.086451</td>\n",
              "      <td>0.631376</td>\n",
              "      <td>0.027209</td>\n",
              "      <td>0.037700</td>\n",
              "      <td>0.021048</td>\n",
              "      <td>-0.463481</td>\n",
              "    </tr>\n",
              "    <tr>\n",
              "      <th>5</th>\n",
              "      <td>1</td>\n",
              "      <td>0.571653</td>\n",
              "      <td>32</td>\n",
              "      <td>61</td>\n",
              "      <td>-29</td>\n",
              "      <td>15</td>\n",
              "      <td>20</td>\n",
              "      <td>7</td>\n",
              "      <td>14</td>\n",
              "      <td>0</td>\n",
              "      <td>...</td>\n",
              "      <td>17.452011</td>\n",
              "      <td>1.0</td>\n",
              "      <td>198.441203</td>\n",
              "      <td>1.251492</td>\n",
              "      <td>1.251492</td>\n",
              "      <td>0.785737</td>\n",
              "      <td>0.104864</td>\n",
              "      <td>0.013003</td>\n",
              "      <td>-0.173295</td>\n",
              "      <td>-0.556737</td>\n",
              "    </tr>\n",
              "    <tr>\n",
              "      <th>6</th>\n",
              "      <td>0</td>\n",
              "      <td>0.253870</td>\n",
              "      <td>9</td>\n",
              "      <td>42</td>\n",
              "      <td>-33</td>\n",
              "      <td>8</td>\n",
              "      <td>18</td>\n",
              "      <td>2</td>\n",
              "      <td>8</td>\n",
              "      <td>0</td>\n",
              "      <td>...</td>\n",
              "      <td>16.937801</td>\n",
              "      <td>1.0</td>\n",
              "      <td>199.486199</td>\n",
              "      <td>1.243934</td>\n",
              "      <td>1.243934</td>\n",
              "      <td>0.781724</td>\n",
              "      <td>-0.090366</td>\n",
              "      <td>0.042329</td>\n",
              "      <td>0.296892</td>\n",
              "      <td>-0.347765</td>\n",
              "    </tr>\n",
              "    <tr>\n",
              "      <th>7</th>\n",
              "      <td>1</td>\n",
              "      <td>0.628369</td>\n",
              "      <td>4</td>\n",
              "      <td>17</td>\n",
              "      <td>-13</td>\n",
              "      <td>3</td>\n",
              "      <td>10</td>\n",
              "      <td>1</td>\n",
              "      <td>3</td>\n",
              "      <td>0</td>\n",
              "      <td>...</td>\n",
              "      <td>13.644691</td>\n",
              "      <td>1.0</td>\n",
              "      <td>177.087853</td>\n",
              "      <td>0.997961</td>\n",
              "      <td>0.997961</td>\n",
              "      <td>0.588381</td>\n",
              "      <td>0.039933</td>\n",
              "      <td>0.456804</td>\n",
              "      <td>-0.165647</td>\n",
              "      <td>1.210527</td>\n",
              "    </tr>\n",
              "    <tr>\n",
              "      <th>8</th>\n",
              "      <td>0</td>\n",
              "      <td>0.000000</td>\n",
              "      <td>3</td>\n",
              "      <td>31</td>\n",
              "      <td>-28</td>\n",
              "      <td>2</td>\n",
              "      <td>12</td>\n",
              "      <td>2</td>\n",
              "      <td>9</td>\n",
              "      <td>0</td>\n",
              "      <td>...</td>\n",
              "      <td>14.227400</td>\n",
              "      <td>1.0</td>\n",
              "      <td>300.000000</td>\n",
              "      <td>1.000000</td>\n",
              "      <td>1.000000</td>\n",
              "      <td>1.000000</td>\n",
              "      <td>0.000000</td>\n",
              "      <td>0.205292</td>\n",
              "      <td>-3.000000</td>\n",
              "      <td>-0.409441</td>\n",
              "    </tr>\n",
              "    <tr>\n",
              "      <th>9</th>\n",
              "      <td>0</td>\n",
              "      <td>0.356729</td>\n",
              "      <td>31</td>\n",
              "      <td>37</td>\n",
              "      <td>-6</td>\n",
              "      <td>15</td>\n",
              "      <td>19</td>\n",
              "      <td>6</td>\n",
              "      <td>6</td>\n",
              "      <td>0</td>\n",
              "      <td>...</td>\n",
              "      <td>19.214457</td>\n",
              "      <td>1.0</td>\n",
              "      <td>216.637528</td>\n",
              "      <td>1.398589</td>\n",
              "      <td>1.398589</td>\n",
              "      <td>0.965334</td>\n",
              "      <td>-0.023789</td>\n",
              "      <td>0.169342</td>\n",
              "      <td>0.041027</td>\n",
              "      <td>-0.182079</td>\n",
              "    </tr>\n",
              "  </tbody>\n",
              "</table>\n",
              "<p>10 rows × 29 columns</p>\n",
              "</div>"
            ],
            "text/plain": [
              "   is_duplicate  spacy_similarity  len_q1  len_q2  diff_len  len_char_q1  \\\n",
              "0             0          0.313089       5      36       -31            4   \n",
              "1             0         -0.067930       5      71       -66            5   \n",
              "2             0          0.664722      23      32        -9           12   \n",
              "3             0          0.275611      19      56       -37           10   \n",
              "4             0          0.587580      50      30        20           21   \n",
              "5             1          0.571653      32      61       -29           15   \n",
              "6             0          0.253870       9      42       -33            8   \n",
              "7             1          0.628369       4      17       -13            3   \n",
              "8             0          0.000000       3      31       -28            2   \n",
              "9             0          0.356729      31      37        -6           15   \n",
              "\n",
              "   len_char_q2  len_word_q1  len_word_q2  common_words  ...  cityblock_dis  \\\n",
              "0           16            1            7             0  ...      18.186985   \n",
              "1           24            1           12             0  ...      13.787235   \n",
              "2           13            4            6             1  ...      11.457092   \n",
              "3           22            4           15             0  ...      17.435374   \n",
              "4           15           10            6             0  ...      14.968091   \n",
              "5           20            7           14             0  ...      17.452011   \n",
              "6           18            2            8             0  ...      16.937801   \n",
              "7           10            1            3             0  ...      13.644691   \n",
              "8           12            2            9             0  ...      14.227400   \n",
              "9           19            6            6             0  ...      19.214457   \n",
              "\n",
              "   jaccard_dis  canberra_dis  euclidean_dis  minkowski_dis  braycurtis_dis  \\\n",
              "0          1.0    206.461737       1.311902       1.311902        0.872352   \n",
              "1          1.0    300.000000       1.000000       1.000000        1.000000   \n",
              "2          1.0    155.035952       0.849427       0.849427        0.452261   \n",
              "3          1.0    203.955915       1.256324       1.256324        0.830043   \n",
              "4          1.0    178.222529       1.086451       1.086451        0.631376   \n",
              "5          1.0    198.441203       1.251492       1.251492        0.785737   \n",
              "6          1.0    199.486199       1.243934       1.243934        0.781724   \n",
              "7          1.0    177.087853       0.997961       0.997961        0.588381   \n",
              "8          1.0    300.000000       1.000000       1.000000        1.000000   \n",
              "9          1.0    216.637528       1.398589       1.398589        0.965334   \n",
              "\n",
              "    skew_q1   skew_q2    kur_q1    kur_q2  \n",
              "0 -0.155758 -0.087513  0.188890 -0.115978  \n",
              "1  0.000000  0.085398 -3.000000  0.117636  \n",
              "2  0.065101  0.079091 -0.007587 -0.470184  \n",
              "3 -0.007600  0.018465  0.056253  0.015438  \n",
              "4  0.027209  0.037700  0.021048 -0.463481  \n",
              "5  0.104864  0.013003 -0.173295 -0.556737  \n",
              "6 -0.090366  0.042329  0.296892 -0.347765  \n",
              "7  0.039933  0.456804 -0.165647  1.210527  \n",
              "8  0.000000  0.205292 -3.000000 -0.409441  \n",
              "9 -0.023789  0.169342  0.041027 -0.182079  \n",
              "\n",
              "[10 rows x 29 columns]"
            ]
          },
          "metadata": {
            "tags": []
          },
          "execution_count": 47
        }
      ]
    },
    {
      "cell_type": "markdown",
      "metadata": {
        "id": "LERxEVLM01dD",
        "colab_type": "text"
      },
      "source": [
        "\n",
        "## Training with XGBoost"
      ]
    },
    {
      "cell_type": "code",
      "metadata": {
        "id": "EXF4jKiu01dF",
        "colab_type": "code",
        "outputId": "87e1d10d-c9d1-4aff-fd06-92ee7b52c4e4",
        "colab": {
          "base_uri": "https://localhost:8080/",
          "height": 202
        }
      },
      "source": [
        "import xgboost as xgb\n",
        "from sklearn.metrics import accuracy_score\n",
        "param = {'max_depth':2, 'eta':1, 'silent':1, 'objective':'binary:logistic' }\n",
        "num_round = 2\n",
        "xb = xgb.XGBClassifier()\n",
        "xb.fit(X_train, y_train)"
      ],
      "execution_count": 1,
      "outputs": [
        {
          "output_type": "error",
          "ename": "NameError",
          "evalue": "ignored",
          "traceback": [
            "\u001b[0;31m---------------------------------------------------------------------------\u001b[0m",
            "\u001b[0;31mNameError\u001b[0m                                 Traceback (most recent call last)",
            "\u001b[0;32m<ipython-input-1-110a9489d83c>\u001b[0m in \u001b[0;36m<module>\u001b[0;34m()\u001b[0m\n\u001b[1;32m      4\u001b[0m \u001b[0mnum_round\u001b[0m \u001b[0;34m=\u001b[0m \u001b[0;36m2\u001b[0m\u001b[0;34m\u001b[0m\u001b[0;34m\u001b[0m\u001b[0m\n\u001b[1;32m      5\u001b[0m \u001b[0mxb\u001b[0m \u001b[0;34m=\u001b[0m \u001b[0mxgb\u001b[0m\u001b[0;34m.\u001b[0m\u001b[0mXGBClassifier\u001b[0m\u001b[0;34m(\u001b[0m\u001b[0;34m)\u001b[0m\u001b[0;34m\u001b[0m\u001b[0;34m\u001b[0m\u001b[0m\n\u001b[0;32m----> 6\u001b[0;31m \u001b[0mxb\u001b[0m\u001b[0;34m.\u001b[0m\u001b[0mfit\u001b[0m\u001b[0;34m(\u001b[0m\u001b[0mX_train\u001b[0m\u001b[0;34m,\u001b[0m \u001b[0my_train\u001b[0m\u001b[0;34m)\u001b[0m\u001b[0;34m\u001b[0m\u001b[0;34m\u001b[0m\u001b[0m\n\u001b[0m",
            "\u001b[0;31mNameError\u001b[0m: name 'X_train' is not defined"
          ]
        }
      ]
    },
    {
      "cell_type": "code",
      "metadata": {
        "id": "wqVWbSW501dM",
        "colab_type": "code",
        "outputId": "4a84d795-956d-49a3-efba-ab7d3ebe7978",
        "colab": {}
      },
      "source": [
        "# Checkng score on test set\n",
        "\n",
        "xb.score(X_holdout, y_holdout)"
      ],
      "execution_count": 0,
      "outputs": [
        {
          "output_type": "execute_result",
          "data": {
            "text/plain": [
              "0.6918053872220435"
            ]
          },
          "metadata": {
            "tags": []
          },
          "execution_count": 62
        }
      ]
    },
    {
      "cell_type": "code",
      "metadata": {
        "id": "-y6swvcK01dT",
        "colab_type": "code",
        "colab": {}
      },
      "source": [
        "X_train.fillna(X_train.mean(), inplace=True)"
      ],
      "execution_count": 0,
      "outputs": []
    },
    {
      "cell_type": "code",
      "metadata": {
        "id": "B6YyoUX101dY",
        "colab_type": "code",
        "outputId": "1a24ede2-6df7-4919-c92b-3a50521ad360",
        "colab": {}
      },
      "source": [
        "# Training with NLP Classifier\n",
        "\n",
        "from sklearn.neural_network import MLPClassifier\n",
        "mlp = MLPClassifier(hidden_layer_sizes=(10, ), activation='relu')\n",
        "mlp.fit(X_train, y_train)"
      ],
      "execution_count": 0,
      "outputs": [
        {
          "output_type": "execute_result",
          "data": {
            "text/plain": [
              "MLPClassifier(activation='relu', alpha=0.0001, batch_size='auto', beta_1=0.9,\n",
              "       beta_2=0.999, early_stopping=False, epsilon=1e-08,\n",
              "       hidden_layer_sizes=(10,), learning_rate='constant',\n",
              "       learning_rate_init=0.001, max_iter=200, momentum=0.9,\n",
              "       n_iter_no_change=10, nesterovs_momentum=True, power_t=0.5,\n",
              "       random_state=None, shuffle=True, solver='adam', tol=0.0001,\n",
              "       validation_fraction=0.1, verbose=False, warm_start=False)"
            ]
          },
          "metadata": {
            "tags": []
          },
          "execution_count": 64
        }
      ]
    },
    {
      "cell_type": "code",
      "metadata": {
        "id": "Buu-GeGZ01de",
        "colab_type": "code",
        "outputId": "8eef57f8-b3b0-48c9-8f7d-2039fcea65ad",
        "colab": {}
      },
      "source": [
        "#MLP Scoring\n",
        "\n",
        "mlp.score(X_holdout, y_holdout)"
      ],
      "execution_count": 0,
      "outputs": [
        {
          "output_type": "execute_result",
          "data": {
            "text/plain": [
              "0.6862648099136758"
            ]
          },
          "metadata": {
            "tags": []
          },
          "execution_count": 65
        }
      ]
    },
    {
      "cell_type": "code",
      "metadata": {
        "id": "NVESBqmt01dl",
        "colab_type": "code",
        "outputId": "787c42bb-4adc-472f-fdba-14e7c9232ac1",
        "colab": {}
      },
      "source": [
        "# checking with Linear Regression\n",
        "\n",
        "from sklearn.linear_model import LogisticRegression\n",
        "clf = LogisticRegression(random_state=0, solver='lbfgs').fit(X_train, y_train)\n",
        "clf.score(X_holdout, y_holdout)"
      ],
      "execution_count": 0,
      "outputs": [
        {
          "output_type": "execute_result",
          "data": {
            "text/plain": [
              "0.6713497736773109"
            ]
          },
          "metadata": {
            "tags": []
          },
          "execution_count": 66
        }
      ]
    },
    {
      "cell_type": "markdown",
      "metadata": {
        "id": "4fBncIDg01dr",
        "colab_type": "text"
      },
      "source": [
        "### The XGBoost score was higher so we will tune that model only, we don't need other models for now\n"
      ]
    },
    {
      "cell_type": "code",
      "metadata": {
        "id": "SRXWnRIv01ds",
        "colab_type": "code",
        "colab": {}
      },
      "source": [
        "\n",
        "from sklearn.model_selection import GridSearchCV, StratifiedKFold\n",
        "parameters = {'nthread':[4], #when use hyperthread, xgboost may become slower\n",
        "              'objective':['binary:logistic'],\n",
        "              'learning_rate': [0.02], #so called `eta` value\n",
        "              'max_depth': np.arange(4, 10),\n",
        "              'min_child_weight': np.arange(7, 10),\n",
        "              'silent': [1],\n",
        "              'subsample': [0.8],\n",
        "              'colsample_bytree': [0.5],\n",
        "              'n_estimators': [500]}\n",
        "xgb_tunned = GridSearchCV(xgb.XGBClassifier(), parameters, n_jobs=-1, verbose=2, refit=True)"
      ],
      "execution_count": 0,
      "outputs": []
    },
    {
      "cell_type": "code",
      "metadata": {
        "id": "n9_wVcHO01dx",
        "colab_type": "code",
        "outputId": "e5fbe119-8433-48fa-b5d7-98b939337cd3",
        "colab": {}
      },
      "source": [
        "%%time\n",
        "xgb_tunned.fit(X_train, y_train)"
      ],
      "execution_count": 0,
      "outputs": [
        {
          "output_type": "stream",
          "text": [
            "Fitting 3 folds for each of 18 candidates, totalling 54 fits\n"
          ],
          "name": "stdout"
        },
        {
          "output_type": "stream",
          "text": [
            "[Parallel(n_jobs=-1)]: Using backend LokyBackend with 4 concurrent workers.\n",
            "[Parallel(n_jobs=-1)]: Done  33 tasks      | elapsed: 39.6min\n",
            "[Parallel(n_jobs=-1)]: Done  54 out of  54 | elapsed: 87.3min finished\n"
          ],
          "name": "stderr"
        },
        {
          "output_type": "stream",
          "text": [
            "Wall time: 1h 30min 12s\n"
          ],
          "name": "stdout"
        },
        {
          "output_type": "execute_result",
          "data": {
            "text/plain": [
              "GridSearchCV(cv='warn', error_score='raise-deprecating',\n",
              "       estimator=XGBClassifier(base_score=0.5, booster='gbtree', colsample_bylevel=1,\n",
              "       colsample_bytree=1, gamma=0, learning_rate=0.1, max_delta_step=0,\n",
              "       max_depth=3, min_child_weight=1, missing=None, n_estimators=100,\n",
              "       n_jobs=1, nthread=None, objective='binary:logistic', random_state=0,\n",
              "       reg_alpha=0, reg_lambda=1, scale_pos_weight=1, seed=None,\n",
              "       silent=True, subsample=1),\n",
              "       fit_params=None, iid='warn', n_jobs=-1,\n",
              "       param_grid={'nthread': [4], 'objective': ['binary:logistic'], 'learning_rate': [0.02], 'max_depth': array([4, 5, 6, 7, 8, 9]), 'min_child_weight': array([7, 8, 9]), 'silent': [1], 'subsample': [0.8], 'colsample_bytree': [0.5], 'n_estimators': [500]},\n",
              "       pre_dispatch='2*n_jobs', refit=True, return_train_score='warn',\n",
              "       scoring=None, verbose=2)"
            ]
          },
          "metadata": {
            "tags": []
          },
          "execution_count": 68
        }
      ]
    },
    {
      "cell_type": "code",
      "metadata": {
        "id": "Q2GPcV0L3Dac",
        "colab_type": "code",
        "colab": {}
      },
      "source": [
        ""
      ],
      "execution_count": 0,
      "outputs": []
    },
    {
      "cell_type": "markdown",
      "metadata": {
        "id": "hxyZ5PI33GZg",
        "colab_type": "text"
      },
      "source": [
        "# Score using XGBoost"
      ]
    },
    {
      "cell_type": "code",
      "metadata": {
        "id": "a7aBr9Wp01d3",
        "colab_type": "code",
        "outputId": "ed137aab-0004-4f37-b1c6-bcb10dbf272f",
        "colab": {}
      },
      "source": [
        "xgb_tunned.score(X_holdout, y_holdout)"
      ],
      "execution_count": 0,
      "outputs": [
        {
          "output_type": "execute_result",
          "data": {
            "text/plain": [
              "0.7125825521284227"
            ]
          },
          "metadata": {
            "tags": []
          },
          "execution_count": 69
        }
      ]
    },
    {
      "cell_type": "code",
      "metadata": {
        "id": "Zo8U8xPF01ei",
        "colab_type": "code",
        "colab": {}
      },
      "source": [
        "# I got 71% accuracy using XGBoost model. I haven't included the test set in the solution. It's been runing on the system \n",
        "# for 3 days and not doing anything. so i decided not to include it. "
      ],
      "execution_count": 0,
      "outputs": []
    },
    {
      "cell_type": "code",
      "metadata": {
        "id": "kEkrWFeb01em",
        "colab_type": "code",
        "colab": {}
      },
      "source": [
        ""
      ],
      "execution_count": 0,
      "outputs": []
    },
    {
      "cell_type": "code",
      "metadata": {
        "id": "Rul7_7Dp01eq",
        "colab_type": "code",
        "colab": {}
      },
      "source": [
        ""
      ],
      "execution_count": 0,
      "outputs": []
    }
  ]
}
